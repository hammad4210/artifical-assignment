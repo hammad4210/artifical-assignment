{
  "nbformat": 4,
  "nbformat_minor": 0,
  "metadata": {
    "colab": {
      "provenance": []
    },
    "kernelspec": {
      "name": "python3",
      "display_name": "Python 3"
    },
    "language_info": {
      "name": "python"
    }
  },
  "cells": [
    {
      "cell_type": "code",
      "execution_count": 2,
      "metadata": {
        "colab": {
          "base_uri": "https://localhost:8080/"
        },
        "id": "DkMJRKFSJGKh",
        "outputId": "33a048ea-5c13-49e3-b8df-58253fdaa64f"
      },
      "outputs": [
        {
          "output_type": "stream",
          "name": "stdout",
          "text": [
            "Shortest path from Islamabad to Karachi is: Islamabad -> Rawalpindi -> Quetta -> Karachi\n"
          ]
        }
      ],
      "source": [
        "from collections import deque\n",
        "\n",
        "# Define the graph using a dictionary\n",
        "graph = {\n",
        "    \"Islamabad\": [\"Rawalpindi\", \"Lahore\", \"Peshawar\"],\n",
        "    \"Rawalpindi\": [\"Islamabad\", \"Peshawar\", \"Quetta\"],\n",
        "    \"Peshawar\": [\"Islamabad\", \"Rawalpindi\", \"Quetta\"],\n",
        "    \"Lahore\": [\"Islamabad\", \"Multan\", \"Quetta\"],\n",
        "    \"Multan\": [\"Lahore\", \"Karachi\", \"Quetta\"],\n",
        "    \"Quetta\": [\"Rawalpindi\", \"Peshawar\", \"Multan\", \"Karachi\"],\n",
        "    \"Karachi\": [\"Multan\", \"Quetta\"]\n",
        "}\n",
        "\n",
        "def bfs_shortest_path(graph, start, goal):\n",
        "    # Initialize the queue and visited set\n",
        "    queue = deque([(start, [start])])  # (current city, path)\n",
        "    visited = set()\n",
        "\n",
        "    while queue:\n",
        "        current_city, path = queue.popleft()\n",
        "\n",
        "        # If the goal is found, return the path\n",
        "        if current_city == goal:\n",
        "            return path\n",
        "\n",
        "        # Mark the city as visited\n",
        "        visited.add(current_city)\n",
        "\n",
        "        # Explore neighbors\n",
        "        for neighbor in graph[current_city]:\n",
        "            if neighbor not in visited:\n",
        "                queue.append((neighbor, path + [neighbor]))\n",
        "\n",
        "    return None  # If no path is found\n",
        "\n",
        "# Define start and goal\n",
        "start_city = \"Islamabad\"\n",
        "goal_city = \"Karachi\"\n",
        "\n",
        "# Find the shortest path\n",
        "shortest_path = bfs_shortest_path(graph, start_city, goal_city)\n",
        "\n",
        "# Output the result\n",
        "if shortest_path:\n",
        "    print(\"Shortest path from\", start_city, \"to\", goal_city, \"is:\", \" -> \".join(shortest_path))\n",
        "else:\n",
        "    print(\"No path found from\", start_city, \"to\", goal_city)\n"
      ]
    }
  ]
}